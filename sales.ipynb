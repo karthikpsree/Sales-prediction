{
 "cells": [
  {
   "cell_type": "code",
   "execution_count": 65,
   "metadata": {},
   "outputs": [],
   "source": [
    "#Import necessary libraries\n",
    "import numpy as np\n",
    "import pandas as pd\n",
    "import matplotlib.pyplot as plt\n",
    "import seaborn as sns\n",
    "from sklearn.model_selection import train_test_split\n",
    "import warnings\n",
    "warnings.filterwarnings(action='ignore')"
   ]
  },
  {
   "cell_type": "code",
   "execution_count": 66,
   "metadata": {},
   "outputs": [],
   "source": [
    "input = pd.read_csv(\"reratrain3.csv\")"
   ]
  },
  {
   "cell_type": "code",
   "execution_count": 67,
   "metadata": {},
   "outputs": [],
   "source": [
    "#print all columns to understand the dataset\n",
    "#input.head()"
   ]
  },
  {
   "cell_type": "code",
   "execution_count": 68,
   "metadata": {},
   "outputs": [],
   "source": [
    "#input.isnull().sum()"
   ]
  },
  {
   "cell_type": "code",
   "execution_count": 69,
   "metadata": {},
   "outputs": [],
   "source": [
    "#input.head()"
   ]
  },
  {
   "cell_type": "code",
   "execution_count": 70,
   "metadata": {},
   "outputs": [],
   "source": [
    "input1 = input.drop(columns=['ID','ProjectID','ProjectID2','ApartmentNumber','ApartmentTypeDD','BookedApartment'])\n"
   ]
  },
  {
   "cell_type": "code",
   "execution_count": 71,
   "metadata": {},
   "outputs": [],
   "source": [
    "import datetime\n",
    "input1['ProjectStartDate'] = pd.to_datetime(input1['ProjectStartDate'])    \n",
    "input1['ProposedDateOfCompletion'] = pd.to_datetime(input1['ProposedDateOfCompletion'])   \n",
    "input1['CreatedOn'] = pd.to_datetime(input1['CreatedOn']) "
   ]
  },
  {
   "cell_type": "code",
   "execution_count": 72,
   "metadata": {},
   "outputs": [],
   "source": [
    "dum1 = pd.get_dummies(input1.ApartmentType, prefix='ApartmentType')\n",
    "dum2 = pd.get_dummies(input1.District, prefix='District')\n",
    "input2=pd.concat([input1,dum1,dum2],axis=1)"
   ]
  },
  {
   "cell_type": "code",
   "execution_count": 73,
   "metadata": {},
   "outputs": [],
   "source": [
    "opvalue=input2['percentage booked']\n",
    "ipfeatures=input2.drop(columns=['percentage booked','District','ApartmentType'])"
   ]
  },
  {
   "cell_type": "code",
   "execution_count": 74,
   "metadata": {},
   "outputs": [],
   "source": [
    "#ipfeatures.head"
   ]
  },
  {
   "cell_type": "code",
   "execution_count": 75,
   "metadata": {},
   "outputs": [],
   "source": [
    "ipfeatures['startyear'] =ipfeatures['ProjectStartDate'].dt.year\n",
    "ipfeatures['startmonth'] =ipfeatures['ProjectStartDate'].dt.month\n",
    "ipfeatures['startweek'] =ipfeatures['ProjectStartDate'].dt.week\n",
    "ipfeatures['startday'] = ipfeatures['ProjectStartDate'].dt.day\n",
    "\n",
    "ipfeatures['completeyear'] =ipfeatures['ProposedDateOfCompletion'].dt.year\n",
    "ipfeatures['completemonth'] =ipfeatures['ProposedDateOfCompletion'].dt.month\n",
    "ipfeatures['completeweek'] =ipfeatures['ProposedDateOfCompletion'].dt.week\n",
    "ipfeatures['completeday'] = ipfeatures['ProposedDateOfCompletion'].dt.day\n",
    "\n",
    "ipfeatures['createyear'] =ipfeatures['CreatedOn'].dt.year\n",
    "ipfeatures['createmonth'] =ipfeatures['CreatedOn'].dt.month\n",
    "ipfeatures['createweek'] =ipfeatures['CreatedOn'].dt.week\n",
    "ipfeatures['createday'] = ipfeatures['CreatedOn'].dt.day"
   ]
  },
  {
   "cell_type": "code",
   "execution_count": 76,
   "metadata": {},
   "outputs": [],
   "source": [
    "ipfeatures=ipfeatures.drop(columns=[ 'ProjectStartDate' ,'CreatedOn','ProposedDateOfCompletion'])"
   ]
  },
  {
   "cell_type": "code",
   "execution_count": 77,
   "metadata": {},
   "outputs": [
    {
     "name": "stdout",
     "output_type": "stream",
     "text": [
      "(8175, 74) (2044, 74)\n",
      "(8175,) (2044,)\n"
     ]
    }
   ],
   "source": [
    "xtrain, xtest,ytrain,ytest = train_test_split(ipfeatures,opvalue, test_size=0.2, random_state=42, shuffle=True)\n",
    "print(xtrain.shape, xtest.shape)\n",
    "print(ytrain.shape, ytest.shape)"
   ]
  },
  {
   "cell_type": "code",
   "execution_count": 78,
   "metadata": {},
   "outputs": [],
   "source": [
    "import seaborn as sb\n",
    "import matplotlib.pyplot as plt\n",
    "#fig, ax = plt.subplots(figsize=(100,100))\n",
    "#sb.heatmap(ax=ax, annot=True,data=input2.corr())"
   ]
  },
  {
   "cell_type": "code",
   "execution_count": 37,
   "metadata": {},
   "outputs": [],
   "source": [
    "#!pip install catboost"
   ]
  },
  {
   "cell_type": "code",
   "execution_count": 79,
   "metadata": {},
   "outputs": [
    {
     "data": {
      "application/vnd.jupyter.widget-view+json": {
       "model_id": "0eca10dd0177470e961922be486fe9b6",
       "version_major": 2,
       "version_minor": 0
      },
      "text/plain": [
       "MetricVisualizer(layout=Layout(align_self='stretch', height='500px'))"
      ]
     },
     "metadata": {},
     "output_type": "display_data"
    },
    {
     "data": {
      "text/plain": [
       "<catboost.core.CatBoostRegressor at 0x2097ba7aa70>"
      ]
     },
     "execution_count": 79,
     "metadata": {},
     "output_type": "execute_result"
    }
   ],
   "source": [
    "import catboost as cat\n",
    "model = cat.CatBoostRegressor(random_state=42,verbose=0)\n",
    "model.fit(xtrain,ytrain,plot=True)"
   ]
  },
  {
   "cell_type": "code",
   "execution_count": 80,
   "metadata": {},
   "outputs": [
    {
     "name": "stdout",
     "output_type": "stream",
     "text": [
      "0.271642827136878\n"
     ]
    }
   ],
   "source": [
    "y_pred = model.predict(xtest)\n",
    "from sklearn.metrics import mean_squared_error\n",
    "from math import sqrt\n",
    "\n",
    "rmse = sqrt(mean_squared_error(ytest, y_pred))\n",
    "print(rmse)"
   ]
  },
  {
   "cell_type": "code",
   "execution_count": 81,
   "metadata": {},
   "outputs": [
    {
     "name": "stdout",
     "output_type": "stream",
     "text": [
      "0.2712345569814542\n"
     ]
    }
   ],
   "source": [
    "y_pred1 = model.predict(xtest)\n",
    "for i in range(2043):\n",
    "    if(y_pred1[i]<0):\n",
    "        y_pred1[i]=0\n",
    "\n",
    "rmse1 = sqrt(mean_squared_error(ytest, y_pred1))\n",
    "print(rmse1)"
   ]
  },
  {
   "cell_type": "code",
   "execution_count": 82,
   "metadata": {},
   "outputs": [
    {
     "name": "stdout",
     "output_type": "stream",
     "text": [
      "input values :\n",
      " ApartmentCarpetArea                                      120.03\n",
      "AreaOfExclusiveVeranda                                     0.00\n",
      "AreaOfExclusiveBalcony                                     8.61\n",
      "AreaOfExclusiveOpenTerrace                                 0.00\n",
      "ShareOfCommonArea                                         43.63\n",
      "TotalArea                                                181.96\n",
      "AreaOfExternalWall                                         9.69\n",
      "Internal Roads & Footpaths                                 0.00\n",
      "Visitors Parking                                           1.00\n",
      "Water conservation, Rain water harvesting                  1.00\n",
      "Energy Management                                          1.00\n",
      "Fire protection and Fire safety requirements               1.00\n",
      "Electrical meter room, Sub-station, Receiving station      1.00\n",
      "Aggregate area of recreational open space                  1.00\n",
      "Open parking                                               1.00\n",
      "Water supply                                               1.00\n",
      "Sewerage (Chamber, Lines, Septic tank, STP)                1.00\n",
      "Storm water drains                                         1.00\n",
      "Landscaping & Tree planting                                1.00\n",
      "Name: 8091, dtype: float64\n"
     ]
    }
   ],
   "source": [
    "print(\"input values :\\n\",xtest.iloc[43,0:19])"
   ]
  },
  {
   "cell_type": "code",
   "execution_count": 55,
   "metadata": {},
   "outputs": [
    {
     "name": "stdout",
     "output_type": "stream",
     "text": [
      "input values :  Street lighting                                       1.0\n",
      "Community buildings                                   0.0\n",
      "Treatment and disposal of sewage and sullage water    1.0\n",
      "Solid waste management and disposal                   1.0\n",
      "Public health services                                0.0\n",
      "Servant's room with attached toilet                   0.0\n",
      "Driver's room with attached toilet                    0.0\n",
      "Intercom facility                                     0.0\n",
      "Outdoor gathering pavilion                            0.0\n",
      "Association room                                      0.0\n",
      "Security cameras                                      0.0\n",
      "Indoor Games Room                                     0.0\n",
      "Guest Suite                                           0.0\n",
      "Reticulated Gas Supply                                0.0\n",
      "Sign Boards                                           0.0\n",
      "Letter box                                            0.0\n",
      "Solar systems                                         0.0\n",
      "ApartmentType_1BHK                                    0.0\n",
      "ApartmentType_1RK                                     0.0\n",
      "ApartmentType_2BHK                                    0.0\n",
      "Name: 8091, dtype: float64\n"
     ]
    }
   ],
   "source": [
    "print(\"input values : \",xtest.iloc[43,19:39])\n"
   ]
  },
  {
   "cell_type": "code",
   "execution_count": 54,
   "metadata": {},
   "outputs": [
    {
     "name": "stdout",
     "output_type": "stream",
     "text": [
      "input values :  ApartmentType_3BHK                   1.0\n",
      "ApartmentType_4BHK                   0.0\n",
      "ApartmentType_5 BHK and More         0.0\n",
      "ApartmentType_Bangalow / Villas      0.0\n",
      "ApartmentType_Office space           0.0\n",
      "ApartmentType_Shops and Showrooms    0.0\n",
      "ApartmentType_club house             0.0\n",
      "ApartmentType_studio                 0.0\n",
      "ApartmentType_studio apartment       0.0\n",
      "District_588                         0.0\n",
      "District_589                         0.0\n",
      "District_590                         0.0\n",
      "District_591                         0.0\n",
      "District_592                         0.0\n",
      "District_593                         0.0\n",
      "District_594                         1.0\n",
      "District_595                         0.0\n",
      "District_596                         0.0\n",
      "District_597                         0.0\n",
      "District_598                         0.0\n",
      "Name: 8091, dtype: float64\n"
     ]
    }
   ],
   "source": [
    "print(\"input values : \",xtest.iloc[43,39:59])\n"
   ]
  },
  {
   "cell_type": "code",
   "execution_count": 53,
   "metadata": {},
   "outputs": [
    {
     "name": "stdout",
     "output_type": "stream",
     "text": [
      "input values :  District_599        0.0\n",
      "District_600        0.0\n",
      "District_601        0.0\n",
      "startyear        2015.0\n",
      "startmonth          2.0\n",
      "startweek           7.0\n",
      "startday            9.0\n",
      "completeyear     2020.0\n",
      "completemonth      12.0\n",
      "completeweek       51.0\n",
      "completeday        15.0\n",
      "createyear       2022.0\n",
      "createmonth         4.0\n",
      "createweek         17.0\n",
      "createday          29.0\n",
      "Name: 8091, dtype: float64\n"
     ]
    }
   ],
   "source": [
    "print(\"input values : \",xtest.iloc[43,59:75])"
   ]
  },
  {
   "cell_type": "code",
   "execution_count": 52,
   "metadata": {},
   "outputs": [
    {
     "name": "stdout",
     "output_type": "stream",
     "text": [
      "actual :\n",
      " 0.6666666667\n",
      "predicted :\n",
      " 0.7788254635209977\n"
     ]
    }
   ],
   "source": [
    "\n",
    "print(\"actual :\\n\",ytest.iloc[43])\n",
    "print(\"predicted :\\n\",y_pred1[43])"
   ]
  },
  {
   "cell_type": "code",
   "execution_count": 61,
   "metadata": {},
   "outputs": [
    {
     "data": {
      "text/html": [
       "<style>#sk-container-id-2 {color: black;background-color: white;}#sk-container-id-2 pre{padding: 0;}#sk-container-id-2 div.sk-toggleable {background-color: white;}#sk-container-id-2 label.sk-toggleable__label {cursor: pointer;display: block;width: 100%;margin-bottom: 0;padding: 0.3em;box-sizing: border-box;text-align: center;}#sk-container-id-2 label.sk-toggleable__label-arrow:before {content: \"▸\";float: left;margin-right: 0.25em;color: #696969;}#sk-container-id-2 label.sk-toggleable__label-arrow:hover:before {color: black;}#sk-container-id-2 div.sk-estimator:hover label.sk-toggleable__label-arrow:before {color: black;}#sk-container-id-2 div.sk-toggleable__content {max-height: 0;max-width: 0;overflow: hidden;text-align: left;background-color: #f0f8ff;}#sk-container-id-2 div.sk-toggleable__content pre {margin: 0.2em;color: black;border-radius: 0.25em;background-color: #f0f8ff;}#sk-container-id-2 input.sk-toggleable__control:checked~div.sk-toggleable__content {max-height: 200px;max-width: 100%;overflow: auto;}#sk-container-id-2 input.sk-toggleable__control:checked~label.sk-toggleable__label-arrow:before {content: \"▾\";}#sk-container-id-2 div.sk-estimator input.sk-toggleable__control:checked~label.sk-toggleable__label {background-color: #d4ebff;}#sk-container-id-2 div.sk-label input.sk-toggleable__control:checked~label.sk-toggleable__label {background-color: #d4ebff;}#sk-container-id-2 input.sk-hidden--visually {border: 0;clip: rect(1px 1px 1px 1px);clip: rect(1px, 1px, 1px, 1px);height: 1px;margin: -1px;overflow: hidden;padding: 0;position: absolute;width: 1px;}#sk-container-id-2 div.sk-estimator {font-family: monospace;background-color: #f0f8ff;border: 1px dotted black;border-radius: 0.25em;box-sizing: border-box;margin-bottom: 0.5em;}#sk-container-id-2 div.sk-estimator:hover {background-color: #d4ebff;}#sk-container-id-2 div.sk-parallel-item::after {content: \"\";width: 100%;border-bottom: 1px solid gray;flex-grow: 1;}#sk-container-id-2 div.sk-label:hover label.sk-toggleable__label {background-color: #d4ebff;}#sk-container-id-2 div.sk-serial::before {content: \"\";position: absolute;border-left: 1px solid gray;box-sizing: border-box;top: 0;bottom: 0;left: 50%;z-index: 0;}#sk-container-id-2 div.sk-serial {display: flex;flex-direction: column;align-items: center;background-color: white;padding-right: 0.2em;padding-left: 0.2em;position: relative;}#sk-container-id-2 div.sk-item {position: relative;z-index: 1;}#sk-container-id-2 div.sk-parallel {display: flex;align-items: stretch;justify-content: center;background-color: white;position: relative;}#sk-container-id-2 div.sk-item::before, #sk-container-id-2 div.sk-parallel-item::before {content: \"\";position: absolute;border-left: 1px solid gray;box-sizing: border-box;top: 0;bottom: 0;left: 50%;z-index: -1;}#sk-container-id-2 div.sk-parallel-item {display: flex;flex-direction: column;z-index: 1;position: relative;background-color: white;}#sk-container-id-2 div.sk-parallel-item:first-child::after {align-self: flex-end;width: 50%;}#sk-container-id-2 div.sk-parallel-item:last-child::after {align-self: flex-start;width: 50%;}#sk-container-id-2 div.sk-parallel-item:only-child::after {width: 0;}#sk-container-id-2 div.sk-dashed-wrapped {border: 1px dashed gray;margin: 0 0.4em 0.5em 0.4em;box-sizing: border-box;padding-bottom: 0.4em;background-color: white;}#sk-container-id-2 div.sk-label label {font-family: monospace;font-weight: bold;display: inline-block;line-height: 1.2em;}#sk-container-id-2 div.sk-label-container {text-align: center;}#sk-container-id-2 div.sk-container {/* jupyter's `normalize.less` sets `[hidden] { display: none; }` but bootstrap.min.css set `[hidden] { display: none !important; }` so we also need the `!important` here to be able to override the default hidden behavior on the sphinx rendered scikit-learn.org. See: https://github.com/scikit-learn/scikit-learn/issues/21755 */display: inline-block !important;position: relative;}#sk-container-id-2 div.sk-text-repr-fallback {display: none;}</style><div id=\"sk-container-id-2\" class=\"sk-top-container\"><div class=\"sk-text-repr-fallback\"><pre>RandomForestRegressor(random_state=0)</pre><b>In a Jupyter environment, please rerun this cell to show the HTML representation or trust the notebook. <br />On GitHub, the HTML representation is unable to render, please try loading this page with nbviewer.org.</b></div><div class=\"sk-container\" hidden><div class=\"sk-item\"><div class=\"sk-estimator sk-toggleable\"><input class=\"sk-toggleable__control sk-hidden--visually\" id=\"sk-estimator-id-2\" type=\"checkbox\" checked><label for=\"sk-estimator-id-2\" class=\"sk-toggleable__label sk-toggleable__label-arrow\">RandomForestRegressor</label><div class=\"sk-toggleable__content\"><pre>RandomForestRegressor(random_state=0)</pre></div></div></div></div></div>"
      ],
      "text/plain": [
       "RandomForestRegressor(random_state=0)"
      ]
     },
     "execution_count": 61,
     "metadata": {},
     "output_type": "execute_result"
    }
   ],
   "source": [
    "from sklearn.ensemble import RandomForestRegressor\n",
    " \n",
    "# create regressor object\n",
    "regressor = RandomForestRegressor(n_estimators=100, random_state=0)\n",
    " \n",
    "# fit the regressor with x and y data\n",
    "regressor.fit(xtrain, ytrain)"
   ]
  },
  {
   "cell_type": "code",
   "execution_count": 62,
   "metadata": {},
   "outputs": [
    {
     "name": "stdout",
     "output_type": "stream",
     "text": [
      "0.2746658360708023\n"
     ]
    }
   ],
   "source": [
    "y_pred2 = regressor.predict(xtest)\n",
    "for i in range(2043):\n",
    "    if(y_pred2[i]<0):\n",
    "        y_pred2[i]=0\n",
    "\n",
    "rmse2 = sqrt(mean_squared_error(ytest, y_pred2))\n",
    "print(rmse2)"
   ]
  },
  {
   "cell_type": "code",
   "execution_count": 64,
   "metadata": {},
   "outputs": [
    {
     "name": "stdout",
     "output_type": "stream",
     "text": [
      "actual :  0.6666666667\n",
      "predicted 0.7788254635209977\n"
     ]
    }
   ],
   "source": [
    "print(\"actual : \",ytest.iloc[43])\n",
    "print(\"predicted\",y_pred1[43,])"
   ]
  }
 ],
 "metadata": {
  "kernelspec": {
   "display_name": "Python 3",
   "language": "python",
   "name": "python3"
  },
  "language_info": {
   "codemirror_mode": {
    "name": "ipython",
    "version": 3
   },
   "file_extension": ".py",
   "mimetype": "text/x-python",
   "name": "python",
   "nbconvert_exporter": "python",
   "pygments_lexer": "ipython3",
   "version": "3.10.11"
  },
  "orig_nbformat": 4
 },
 "nbformat": 4,
 "nbformat_minor": 2
}
